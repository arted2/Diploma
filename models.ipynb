{
  "cells": [
    {
      "cell_type": "code",
      "execution_count": 24,
      "id": "6ea0a0ae-94a6-4ebd-9f9a-9018604c253b",
      "metadata": {
        "id": "6ea0a0ae-94a6-4ebd-9f9a-9018604c253b"
      },
      "outputs": [],
      "source": [
        "import pandas as pd\n",
        "import pandas as pd\n",
        "import numpy as np\n",
        "import matplotlib.pyplot as plt\n",
        "from statsmodels.tsa.arima.model import ARIMA\n",
        "from sklearn.metrics import mean_absolute_error, mean_squared_error\n",
        "import tensorflow as tf\n",
        "from tensorflow import keras\n",
        "from tensorflow.keras.layers import LSTM, Dense\n",
        "from sklearn.preprocessing import MinMaxScaler"
      ]
    },
    {
      "cell_type": "code",
      "execution_count": 2,
      "id": "d10ebf7e-8bcc-4777-af9b-55ada2e091fd",
      "metadata": {
        "id": "d10ebf7e-8bcc-4777-af9b-55ada2e091fd"
      },
      "outputs": [],
      "source": [
        "df = pd.read_csv('data.csv')\n",
        "df[\"Квартиры₽/м²\"] = df[\"Квартиры₽/м²\"].str.replace(\" \", \"\", regex=True)\n",
        "\n",
        "data = df['Квартиры₽/м²']\n",
        "\n",
        "data = data.astype(int)  # Преобразование цен в int"
      ]
    },
    {
      "cell_type": "code",
      "execution_count": 3,
      "id": "a4165789-ae63-4b03-9d8f-777620815e8f",
      "metadata": {
        "id": "a4165789-ae63-4b03-9d8f-777620815e8f"
      },
      "outputs": [],
      "source": [
        "train_size = int(len(data) * 0.9)\n",
        "train, test = data[:train_size], data[train_size:]"
      ]
    },
    {
      "cell_type": "code",
      "execution_count": 4,
      "id": "058aaeab-d36b-4dd6-a170-8e85fea5868a",
      "metadata": {
        "id": "058aaeab-d36b-4dd6-a170-8e85fea5868a"
      },
      "outputs": [],
      "source": [
        "model_arima = ARIMA(train, order=(5,1,0))\n",
        "model_arima_fit = model_arima.fit()\n",
        "predictions_arima = model_arima_fit.forecast(steps=len(test))"
      ]
    },
    {
      "cell_type": "code",
      "execution_count": 5,
      "id": "ef4d83c3-052c-4c16-8f60-c4dd5263b612",
      "metadata": {
        "colab": {
          "base_uri": "https://localhost:8080/"
        },
        "id": "ef4d83c3-052c-4c16-8f60-c4dd5263b612",
        "outputId": "a1dc1f3e-74c0-49a3-a847-c2eef56daaee"
      },
      "outputs": [
        {
          "output_type": "stream",
          "name": "stdout",
          "text": [
            "ARIMA: MAE=22849.26, RMSE=23636.93\n"
          ]
        }
      ],
      "source": [
        "mae_arima = mean_absolute_error(test, predictions_arima)\n",
        "rmse_arima = np.sqrt(mean_squared_error(test, predictions_arima))\n",
        "print(f'ARIMA: MAE={mae_arima:.2f}, RMSE={rmse_arima:.2f}')"
      ]
    },
    {
      "cell_type": "code",
      "execution_count": 6,
      "id": "294ddee1-1068-4576-9a83-94e344088c97",
      "metadata": {
        "id": "294ddee1-1068-4576-9a83-94e344088c97"
      },
      "outputs": [],
      "source": [
        "scaler = MinMaxScaler(feature_range=(0,1))\n",
        "data_scaled = scaler.fit_transform(data.values.reshape(-1,1))"
      ]
    },
    {
      "cell_type": "code",
      "execution_count": 7,
      "id": "4efa2d69-5eef-4398-be21-e165424565fa",
      "metadata": {
        "id": "4efa2d69-5eef-4398-be21-e165424565fa"
      },
      "outputs": [],
      "source": [
        "def create_dataset(dataset, look_back=10):\n",
        "    X, Y = [], []\n",
        "    for i in range(len(dataset) - look_back - 1):\n",
        "        X.append(dataset[i:(i + look_back), 0])\n",
        "        Y.append(dataset[i + look_back, 0])\n",
        "    return np.array(X), np.array(Y)"
      ]
    },
    {
      "cell_type": "code",
      "execution_count": 8,
      "id": "42bc559c-d508-499a-be50-035ec5638ab4",
      "metadata": {
        "id": "42bc559c-d508-499a-be50-035ec5638ab4"
      },
      "outputs": [],
      "source": [
        "look_back = 10\n",
        "X_train, y_train = create_dataset(data_scaled[:train_size], look_back)\n",
        "X_test, y_test = create_dataset(data_scaled[train_size:], look_back)\n",
        "\n",
        "X_train = np.reshape(X_train, (X_train.shape[0], X_train.shape[1], 1))\n",
        "X_test = np.reshape(X_test, (X_test.shape[0], X_test.shape[1], 1))"
      ]
    },
    {
      "cell_type": "code",
      "execution_count": 11,
      "id": "8fc8b1b5-03aa-46bd-ab3d-1379501d93cb",
      "metadata": {
        "colab": {
          "base_uri": "https://localhost:8080/"
        },
        "id": "8fc8b1b5-03aa-46bd-ab3d-1379501d93cb",
        "outputId": "f0af8ce7-c143-458a-decf-4355c43ccbc6"
      },
      "outputs": [
        {
          "output_type": "stream",
          "name": "stdout",
          "text": [
            "Epoch 1/20\n"
          ]
        },
        {
          "output_type": "stream",
          "name": "stderr",
          "text": [
            "/usr/local/lib/python3.11/dist-packages/keras/src/layers/rnn/rnn.py:200: UserWarning: Do not pass an `input_shape`/`input_dim` argument to a layer. When using Sequential models, prefer using an `Input(shape)` object as the first layer in the model instead.\n",
            "  super().__init__(**kwargs)\n"
          ]
        },
        {
          "output_type": "stream",
          "name": "stdout",
          "text": [
            "\u001b[1m151/151\u001b[0m \u001b[32m━━━━━━━━━━━━━━━━━━━━\u001b[0m\u001b[37m\u001b[0m \u001b[1m4s\u001b[0m 5ms/step - loss: 0.0351\n",
            "Epoch 2/20\n",
            "\u001b[1m151/151\u001b[0m \u001b[32m━━━━━━━━━━━━━━━━━━━━\u001b[0m\u001b[37m\u001b[0m \u001b[1m2s\u001b[0m 9ms/step - loss: 0.0044\n",
            "Epoch 3/20\n",
            "\u001b[1m151/151\u001b[0m \u001b[32m━━━━━━━━━━━━━━━━━━━━\u001b[0m\u001b[37m\u001b[0m \u001b[1m2s\u001b[0m 7ms/step - loss: 0.0036\n",
            "Epoch 4/20\n",
            "\u001b[1m151/151\u001b[0m \u001b[32m━━━━━━━━━━━━━━━━━━━━\u001b[0m\u001b[37m\u001b[0m \u001b[1m1s\u001b[0m 8ms/step - loss: 0.0033\n",
            "Epoch 5/20\n",
            "\u001b[1m151/151\u001b[0m \u001b[32m━━━━━━━━━━━━━━━━━━━━\u001b[0m\u001b[37m\u001b[0m \u001b[1m1s\u001b[0m 8ms/step - loss: 0.0042\n",
            "Epoch 6/20\n",
            "\u001b[1m151/151\u001b[0m \u001b[32m━━━━━━━━━━━━━━━━━━━━\u001b[0m\u001b[37m\u001b[0m \u001b[1m1s\u001b[0m 6ms/step - loss: 0.0043\n",
            "Epoch 7/20\n",
            "\u001b[1m151/151\u001b[0m \u001b[32m━━━━━━━━━━━━━━━━━━━━\u001b[0m\u001b[37m\u001b[0m \u001b[1m1s\u001b[0m 5ms/step - loss: 0.0021\n",
            "Epoch 8/20\n",
            "\u001b[1m151/151\u001b[0m \u001b[32m━━━━━━━━━━━━━━━━━━━━\u001b[0m\u001b[37m\u001b[0m \u001b[1m1s\u001b[0m 5ms/step - loss: 0.0042\n",
            "Epoch 9/20\n",
            "\u001b[1m151/151\u001b[0m \u001b[32m━━━━━━━━━━━━━━━━━━━━\u001b[0m\u001b[37m\u001b[0m \u001b[1m1s\u001b[0m 5ms/step - loss: 0.0027\n",
            "Epoch 10/20\n",
            "\u001b[1m151/151\u001b[0m \u001b[32m━━━━━━━━━━━━━━━━━━━━\u001b[0m\u001b[37m\u001b[0m \u001b[1m1s\u001b[0m 5ms/step - loss: 0.0027\n",
            "Epoch 11/20\n",
            "\u001b[1m151/151\u001b[0m \u001b[32m━━━━━━━━━━━━━━━━━━━━\u001b[0m\u001b[37m\u001b[0m \u001b[1m1s\u001b[0m 5ms/step - loss: 0.0022\n",
            "Epoch 12/20\n",
            "\u001b[1m151/151\u001b[0m \u001b[32m━━━━━━━━━━━━━━━━━━━━\u001b[0m\u001b[37m\u001b[0m \u001b[1m1s\u001b[0m 5ms/step - loss: 0.0030\n",
            "Epoch 13/20\n",
            "\u001b[1m151/151\u001b[0m \u001b[32m━━━━━━━━━━━━━━━━━━━━\u001b[0m\u001b[37m\u001b[0m \u001b[1m1s\u001b[0m 5ms/step - loss: 0.0023\n",
            "Epoch 14/20\n",
            "\u001b[1m151/151\u001b[0m \u001b[32m━━━━━━━━━━━━━━━━━━━━\u001b[0m\u001b[37m\u001b[0m \u001b[1m1s\u001b[0m 5ms/step - loss: 0.0022\n",
            "Epoch 15/20\n",
            "\u001b[1m151/151\u001b[0m \u001b[32m━━━━━━━━━━━━━━━━━━━━\u001b[0m\u001b[37m\u001b[0m \u001b[1m1s\u001b[0m 8ms/step - loss: 0.0017\n",
            "Epoch 16/20\n",
            "\u001b[1m151/151\u001b[0m \u001b[32m━━━━━━━━━━━━━━━━━━━━\u001b[0m\u001b[37m\u001b[0m \u001b[1m1s\u001b[0m 8ms/step - loss: 0.0019\n",
            "Epoch 17/20\n",
            "\u001b[1m151/151\u001b[0m \u001b[32m━━━━━━━━━━━━━━━━━━━━\u001b[0m\u001b[37m\u001b[0m \u001b[1m1s\u001b[0m 6ms/step - loss: 0.0020\n",
            "Epoch 18/20\n",
            "\u001b[1m151/151\u001b[0m \u001b[32m━━━━━━━━━━━━━━━━━━━━\u001b[0m\u001b[37m\u001b[0m \u001b[1m1s\u001b[0m 6ms/step - loss: 0.0019\n",
            "Epoch 19/20\n",
            "\u001b[1m151/151\u001b[0m \u001b[32m━━━━━━━━━━━━━━━━━━━━\u001b[0m\u001b[37m\u001b[0m \u001b[1m1s\u001b[0m 5ms/step - loss: 0.0014\n",
            "Epoch 20/20\n",
            "\u001b[1m151/151\u001b[0m \u001b[32m━━━━━━━━━━━━━━━━━━━━\u001b[0m\u001b[37m\u001b[0m \u001b[1m1s\u001b[0m 5ms/step - loss: 0.0017\n"
          ]
        },
        {
          "output_type": "execute_result",
          "data": {
            "text/plain": [
              "<keras.src.callbacks.history.History at 0x7b06e8ee5610>"
            ]
          },
          "metadata": {},
          "execution_count": 11
        }
      ],
      "source": [
        "model_1 = keras.Sequential([\n",
        "    LSTM(50, return_sequences=True, input_shape=(look_back, 1)),\n",
        "    LSTM(50),\n",
        "    Dense(1)\n",
        "])\n",
        "model_1.compile(optimizer='adam', loss='mean_squared_error')\n",
        "model_1.fit(X_train, y_train, epochs=20, batch_size=1, verbose=1)"
      ]
    },
    {
      "cell_type": "code",
      "execution_count": 13,
      "id": "f948c887-5730-450a-adfe-d34bb9eb7c0f",
      "metadata": {
        "colab": {
          "base_uri": "https://localhost:8080/"
        },
        "id": "f948c887-5730-450a-adfe-d34bb9eb7c0f",
        "outputId": "36b68ca1-c6d6-4e3a-d304-c9e639228d18"
      },
      "outputs": [
        {
          "output_type": "stream",
          "name": "stdout",
          "text": [
            "\u001b[1m1/1\u001b[0m \u001b[32m━━━━━━━━━━━━━━━━━━━━\u001b[0m\u001b[37m\u001b[0m \u001b[1m1s\u001b[0m 602ms/step\n"
          ]
        }
      ],
      "source": [
        "predictions_lstm = model_1.predict(X_test)\n",
        "predictions_lstm = scaler.inverse_transform(predictions_lstm)\n",
        "predictions_lstm = predictions_lstm.astype(int)  # Преобразование предсказаний в"
      ]
    },
    {
      "cell_type": "code",
      "source": [
        "mae_lstm = mean_absolute_error(test[look_back+1:], predictions_lstm)\n",
        "rmse_lstm = np.sqrt(mean_squared_error(test[look_back+1:], predictions_lstm))\n",
        "print(f'LSTM: MAE={mae_lstm:.2f}, RMSE={rmse_lstm:.2f}')"
      ],
      "metadata": {
        "colab": {
          "base_uri": "https://localhost:8080/"
        },
        "id": "bvOsbM84WDQE",
        "outputId": "81ad5593-a541-48ce-b0dc-05c497135326"
      },
      "id": "bvOsbM84WDQE",
      "execution_count": 14,
      "outputs": [
        {
          "output_type": "stream",
          "name": "stdout",
          "text": [
            "LSTM: MAE=9628.29, RMSE=11311.56\n"
          ]
        }
      ]
    },
    {
      "cell_type": "code",
      "source": [
        "plt.figure(figsize=(10, 5))\n",
        "plt.plot(test.index[look_back+1:], test[look_back+1:], label='Actual')\n",
        "plt.plot(test.index[look_back+1:], predictions_arima[11::], label='ARIMA')\n",
        "plt.plot(test.index[look_back+1:], predictions_lstm, label='LSTM')\n",
        "plt.legend()\n",
        "plt.show()"
      ],
      "metadata": {
        "colab": {
          "base_uri": "https://localhost:8080/",
          "height": 445
        },
        "id": "SnDKfp3iWGcW",
        "outputId": "c6ef51a6-e7a1-419f-fda0-c4bb99a27a64"
      },
      "id": "SnDKfp3iWGcW",
      "execution_count": 23,
      "outputs": [
        {
          "output_type": "display_data",
          "data": {
            "text/plain": [
              "<Figure size 1000x500 with 1 Axes>"
            ],
            "image/png": "[encoded data removed]"
          },
          "metadata": {}
        }
      ]
    },
    {
      "cell_type": "code",
      "source": [],
      "metadata": {
        "id": "Czmvw4JuWcvC"
      },
      "id": "Czmvw4JuWcvC",
      "execution_count": null,
      "outputs": []
    }
  ],
  "metadata": {
    "kernelspec": {
      "display_name": "Python 3 (ipykernel)",
      "language": "python",
      "name": "python3"
    },
    "language_info": {
      "codemirror_mode": {
        "name": "ipython",
        "version": 3
      },
      "file_extension": ".py",
      "mimetype": "text/x-python",
      "name": "python",
      "nbconvert_exporter": "python",
      "pygments_lexer": "ipython3",
      "version": "3.12.3"
    },
    "colab": {
      "provenance": []
    }
  },
  "nbformat": 4,
  "nbformat_minor": 5
}