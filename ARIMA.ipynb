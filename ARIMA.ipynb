{
 "cells": [
  {
   "cell_type": "code",
   "execution_count": 3,
   "id": "635aeece-aea8-4a24-b500-3030e58fbad6",
   "metadata": {},
   "outputs": [],
   "source": [
    "import pandas as pd\n",
    "import numpy as np\n",
    "import matplotlib.pyplot as plt\n",
    "from sklearn.metrics import mean_squared_error\n",
    "import pandas as pd\n",
    "import pandas as pd\n",
    "import numpy as np\n",
    "import matplotlib.pyplot as plt\n",
    "from statsmodels.tsa.arima.model import ARIMA\n",
    "from sklearn.metrics import mean_absolute_error, mean_squared_error\n",
    "import tensorflow as tf\n",
    "from tensorflow import keras\n",
    "from tensorflow.keras import layers\n",
    "from sklearn.preprocessing import MinMaxScaler"
   ]
  },
  {
   "cell_type": "code",
   "execution_count": 4,
   "id": "21fa3581-9002-45e7-9555-94706cf11707",
   "metadata": {},
   "outputs": [],
   "source": [
    "df = pd.read_csv('main.csv')"
   ]
  },
  {
   "cell_type": "code",
   "execution_count": 5,
   "id": "b9d22e0b-34b5-468a-81b1-30b143b5aa5c",
   "metadata": {},
   "outputs": [],
   "source": [
    "from sklearn.metrics import mean_absolute_error, mean_squared_error, r2_score\n",
    "import numpy as np\n",
    "\n",
    "def evaluate_model(y_true, y_pred):\n",
    "    mae = mean_absolute_error(y_true, y_pred)\n",
    "    mse = mean_squared_error(y_true, y_pred)\n",
    "    rmse = np.sqrt(mse)\n",
    "    mape = np.mean(np.abs((y_true - y_pred) / y_true)) * 100\n",
    "    r2 = r2_score(y_true, y_pred)\n",
    "\n",
    "    return {\n",
    "        'MAE': mae,\n",
    "        'MSE': mse,\n",
    "        'RMSE': rmse,\n",
    "        'MAPE (%)': mape,\n",
    "        'R2 Score': r2\n",
    "    }"
   ]
  },
  {
   "cell_type": "code",
   "execution_count": 12,
   "id": "8a851662-422e-48ea-9d3d-ba4e52d06b6c",
   "metadata": {},
   "outputs": [],
   "source": [
    "total_pred = []\n",
    "total_test = []"
   ]
  },
  {
   "cell_type": "code",
   "execution_count": 13,
   "id": "1315cf36-90c6-45b1-a538-a6e2cc419675",
   "metadata": {
    "scrolled": true
   },
   "outputs": [
    {
     "name": "stdout",
     "output_type": "stream",
     "text": [
      "Лучшая модель ARIMA: (2, 1, 2), MSE: 16068836.60\n",
      "Лучшая модель ARIMA: (3, 0, 3), MSE: 20835323.47\n",
      "Лучшая модель ARIMA: (2, 1, 2), MSE: 179202537.54\n",
      "Лучшая модель ARIMA: (1, 1, 2), MSE: 2050496.07\n",
      "Лучшая модель ARIMA: (1, 1, 0), MSE: 1006047438.84\n",
      "Лучшая модель ARIMA: (3, 1, 2), MSE: 81519201.45\n",
      "Лучшая модель ARIMA: (3, 1, 2), MSE: 9841463.36\n",
      "Лучшая модель ARIMA: (2, 1, 3), MSE: 59932017.26\n",
      "Лучшая модель ARIMA: (2, 1, 3), MSE: 309531223.71\n",
      "Лучшая модель ARIMA: (1, 1, 3), MSE: 4579348.12\n",
      "Лучшая модель ARIMA: (0, 1, 3), MSE: 2961959.18\n",
      "Лучшая модель ARIMA: (0, 1, 3), MSE: 10878135.83\n",
      "Лучшая модель ARIMA: (2, 1, 3), MSE: 5141357.42\n",
      "Лучшая модель ARIMA: (3, 1, 2), MSE: 14871234.00\n",
      "Лучшая модель ARIMA: (3, 1, 2), MSE: 82825005.68\n",
      "Лучшая модель ARIMA: (3, 1, 3), MSE: 28964401.80\n",
      "Лучшая модель ARIMA: (0, 1, 3), MSE: 6265819.61\n",
      "Лучшая модель ARIMA: (1, 1, 1), MSE: 1539846.66\n",
      "Лучшая модель ARIMA: (2, 1, 2), MSE: 81213422.08\n",
      "Лучшая модель ARIMA: (1, 1, 3), MSE: 62014191.85\n",
      "Лучшая модель ARIMA: (3, 1, 2), MSE: 12019765.42\n",
      "Лучшая модель ARIMA: (0, 1, 3), MSE: 9765931.96\n",
      "Лучшая модель ARIMA: (0, 1, 3), MSE: 5814140.01\n",
      "Лучшая модель ARIMA: (3, 1, 3), MSE: 65329432.88\n",
      "Лучшая модель ARIMA: (0, 1, 0), MSE: 189270246.05\n",
      "Лучшая модель ARIMA: (0, 1, 3), MSE: 5495682.61\n",
      "Лучшая модель ARIMA: (2, 1, 3), MSE: 5907214.39\n",
      "Лучшая модель ARIMA: (1, 1, 3), MSE: 7317783.40\n",
      "Лучшая модель ARIMA: (2, 1, 3), MSE: 247817368.95\n",
      "Лучшая модель ARIMA: (3, 1, 3), MSE: 135750533.70\n",
      "Лучшая модель ARIMA: (3, 1, 3), MSE: 6402738.34\n",
      "Лучшая модель ARIMA: (2, 1, 3), MSE: 878342.17\n",
      "Лучшая модель ARIMA: (1, 1, 3), MSE: 21830071.12\n",
      "Лучшая модель ARIMA: (3, 1, 2), MSE: 18767482.19\n",
      "Лучшая модель ARIMA: (3, 1, 2), MSE: 130569560.32\n",
      "Лучшая модель ARIMA: (0, 1, 3), MSE: 440586.23\n",
      "Лучшая модель ARIMA: (3, 1, 3), MSE: 31139726.63\n",
      "Лучшая модель ARIMA: (1, 1, 3), MSE: 26692617.83\n",
      "Лучшая модель ARIMA: (2, 1, 3), MSE: 3530796.78\n",
      "Лучшая модель ARIMA: (0, 1, 3), MSE: 26319373.93\n",
      "Лучшая модель ARIMA: (2, 1, 2), MSE: 73677839.11\n",
      "Лучшая модель ARIMA: (3, 1, 2), MSE: 635188.06\n",
      "Лучшая модель ARIMA: (2, 1, 3), MSE: 25381198.57\n",
      "Лучшая модель ARIMA: (3, 1, 2), MSE: 3021042.50\n",
      "Лучшая модель ARIMA: (3, 1, 2), MSE: 43982779.99\n",
      "Лучшая модель ARIMA: (0, 1, 3), MSE: 11393277.11\n",
      "Лучшая модель ARIMA: (2, 1, 2), MSE: 148600139.34\n",
      "Лучшая модель ARIMA: (1, 1, 2), MSE: 71838515.49\n",
      "Лучшая модель ARIMA: (1, 1, 3), MSE: 13205477.12\n",
      "Лучшая модель ARIMA: (0, 1, 3), MSE: 5043204.02\n",
      "Лучшая модель ARIMA: (1, 1, 3), MSE: 101602333.49\n",
      "Лучшая модель ARIMA: (2, 0, 3), MSE: 281765860.77\n",
      "Лучшая модель ARIMA: (0, 1, 3), MSE: 1405058.24\n",
      "Лучшая модель ARIMA: (0, 1, 3), MSE: 5025014.85\n",
      "Лучшая модель ARIMA: (3, 1, 2), MSE: 17964068.35\n",
      "Лучшая модель ARIMA: (3, 1, 2), MSE: 70662273.40\n",
      "Лучшая модель ARIMA: (3, 1, 1), MSE: 24636818.25\n",
      "Лучшая модель ARIMA: (0, 1, 3), MSE: 15746497.40\n",
      "Лучшая модель ARIMA: (3, 1, 2), MSE: 3096573.34\n",
      "Лучшая модель ARIMA: (0, 1, 0), MSE: 875691736.86\n",
      "Лучшая модель ARIMA: (3, 1, 2), MSE: 17255336.63\n",
      "Лучшая модель ARIMA: (2, 1, 3), MSE: 102254018.14\n",
      "Лучшая модель ARIMA: (1, 1, 2), MSE: 51545693.19\n",
      "Лучшая модель ARIMA: (0, 1, 3), MSE: 3379692.70\n",
      "Лучшая модель ARIMA: (1, 1, 3), MSE: 91433099.59\n",
      "Лучшая модель ARIMA: (3, 1, 3), MSE: 55025934.41\n",
      "Лучшая модель ARIMA: (1, 1, 3), MSE: 19257745.06\n",
      "Лучшая модель ARIMA: (2, 1, 3), MSE: 5307456.77\n",
      "Лучшая модель ARIMA: (3, 1, 2), MSE: 3595144.17\n",
      "Лучшая модель ARIMA: (1, 1, 1), MSE: 2667419.74\n",
      "Лучшая модель ARIMA: (1, 1, 3), MSE: 6823003.61\n",
      "Лучшая модель ARIMA: (2, 1, 1), MSE: 49301627.20\n",
      "Лучшая модель ARIMA: (2, 1, 1), MSE: 36468097.76\n",
      "Лучшая модель ARIMA: (3, 1, 2), MSE: 10821691.80\n",
      "Лучшая модель ARIMA: (3, 1, 2), MSE: 982070.34\n",
      "Лучшая модель ARIMA: (0, 1, 3), MSE: 41206.59\n",
      "Лучшая модель ARIMA: (1, 1, 3), MSE: 2722980854.16\n",
      "Лучшая модель ARIMA: (3, 1, 2), MSE: 79568241.80\n",
      "Лучшая модель ARIMA: (1, 1, 2), MSE: 193543992.87\n",
      "Лучшая модель ARIMA: (3, 1, 2), MSE: 17637814.26\n",
      "Лучшая модель ARIMA: (3, 1, 1), MSE: 449014526.40\n",
      "Лучшая модель ARIMA: (1, 1, 3), MSE: 9910749.67\n",
      "Лучшая модель ARIMA: (1, 1, 1), MSE: 17174335.24\n",
      "Лучшая модель ARIMA: (1, 1, 1), MSE: 124045456.31\n",
      "Лучшая модель ARIMA: (3, 1, 3), MSE: 132360724.23\n",
      "Лучшая модель ARIMA: (3, 1, 3), MSE: 73834279.95\n",
      "Лучшая модель ARIMA: (0, 1, 3), MSE: 855580.67\n",
      "Лучшая модель ARIMA: (3, 1, 3), MSE: 152328.15\n",
      "Лучшая модель ARIMA: (3, 1, 2), MSE: 67833147.17\n",
      "Лучшая модель ARIMA: (0, 1, 3), MSE: 3109022.09\n",
      "Лучшая модель ARIMA: (1, 1, 1), MSE: 47778.19\n",
      "Лучшая модель ARIMA: (3, 1, 2), MSE: 446584.40\n",
      "Лучшая модель ARIMA: (0, 1, 3), MSE: 7099205.31\n",
      "Лучшая модель ARIMA: (0, 1, 3), MSE: 140700719.35\n",
      "Лучшая модель ARIMA: (0, 1, 3), MSE: 17423239.10\n",
      "Лучшая модель ARIMA: (1, 1, 3), MSE: 26320887.45\n",
      "Лучшая модель ARIMA: (3, 1, 2), MSE: 37015471.07\n",
      "Лучшая модель ARIMA: (0, 1, 3), MSE: 2441578.65\n",
      "Лучшая модель ARIMA: (3, 1, 2), MSE: 7073210.63\n",
      "Лучшая модель ARIMA: (2, 1, 0), MSE: 3001423.73\n",
      "Лучшая модель ARIMA: (2, 1, 3), MSE: 81830915.22\n",
      "Лучшая модель ARIMA: (3, 1, 2), MSE: 76631966.97\n",
      "Лучшая модель ARIMA: (2, 1, 3), MSE: 76748595.65\n",
      "Лучшая модель ARIMA: (0, 1, 3), MSE: 12441504.65\n",
      "Лучшая модель ARIMA: (3, 1, 1), MSE: 18337861.79\n",
      "Лучшая модель ARIMA: (3, 1, 3), MSE: 29301652.39\n",
      "Лучшая модель ARIMA: (1, 1, 1), MSE: 25488626.20\n",
      "Лучшая модель ARIMA: (1, 1, 3), MSE: 359832078.33\n",
      "Лучшая модель ARIMA: (2, 1, 3), MSE: 109540598.19\n",
      "Лучшая модель ARIMA: (3, 1, 3), MSE: 6091250.12\n",
      "Лучшая модель ARIMA: (1, 1, 3), MSE: 9262527.87\n",
      "Лучшая модель ARIMA: (3, 1, 2), MSE: 6614924.19\n",
      "Лучшая модель ARIMA: (0, 1, 3), MSE: 17126006.58\n",
      "Лучшая модель ARIMA: (3, 1, 1), MSE: 14026572.46\n",
      "Лучшая модель ARIMA: (3, 1, 3), MSE: 272109919.06\n",
      "Лучшая модель ARIMA: (0, 1, 3), MSE: 18162650.46\n",
      "Лучшая модель ARIMA: (1, 1, 3), MSE: 14639072.45\n",
      "Лучшая модель ARIMA: (2, 1, 2), MSE: 7536944.00\n",
      "Лучшая модель ARIMA: (3, 1, 2), MSE: 29660718.25\n",
      "Лучшая модель ARIMA: (1, 1, 3), MSE: 31393863.59\n",
      "Лучшая модель ARIMA: (3, 1, 2), MSE: 12651426.32\n",
      "Лучшая модель ARIMA: (3, 1, 2), MSE: 27736561.03\n",
      "Лучшая модель ARIMA: (0, 1, 3), MSE: 14071175.28\n",
      "Лучшая модель ARIMA: (2, 1, 3), MSE: 165700678.09\n",
      "Лучшая модель ARIMA: (0, 1, 2), MSE: 4682630.02\n",
      "Лучшая модель ARIMA: (0, 1, 3), MSE: 2377448.46\n",
      "Лучшая модель ARIMA: (3, 1, 2), MSE: 26849244.51\n"
     ]
    }
   ],
   "source": [
    "import pandas as pd\n",
    "import numpy as np\n",
    "import warnings\n",
    "from statsmodels.tsa.arima.model import ARIMA\n",
    "from sklearn.metrics import mean_squared_error\n",
    "\n",
    "warnings.filterwarnings(\"ignore\")\n",
    "\n",
    "\n",
    "total_metrics = pd.DataFrame(columns=[\"MAE\", \"MSE\", \"RMSE\", \"MAPE (%)\", \"R2 Score\"])\n",
    "for rayon_id in range(0, 127):\n",
    "    df_r = df[df['Район'] == rayon_id].sort_values('Год')\n",
    "    series = df_r[['Год', 'Цена']].set_index('Год')['Цена']\n",
    "    \n",
    "    # Тренировочная и тестовая выборка\n",
    "    train = series[:-2]\n",
    "    test = series[-2:]\n",
    "    \n",
    "    # Сетка параметров\n",
    "    p_values = range(0, 4)\n",
    "    d_values = range(0, 2)\n",
    "    q_values = range(0, 4)\n",
    "    \n",
    "    best_score = float(\"inf\")\n",
    "    best_order = None\n",
    "    best_model = None\n",
    "    \n",
    "    # Подбор параметров по MSE\n",
    "    for p in p_values:\n",
    "        for d in d_values:\n",
    "            for q in q_values:\n",
    "                try:\n",
    "                    model = ARIMA(train, order=(p, d, q))\n",
    "                    model_fit = model.fit()\n",
    "                    forecast = model_fit.forecast(steps=2)\n",
    "                    error = mean_squared_error(test, forecast)\n",
    "                    \n",
    "                    if error < best_score:\n",
    "                        best_score = error\n",
    "                        best_order = (p, d, q)\n",
    "                        best_model = model_fit\n",
    "                except:\n",
    "                    continue\n",
    "    \n",
    "    print(f\"Лучшая модель ARIMA: {best_order}, MSE: {best_score:.2f}\")\n",
    "    \n",
    "    # Прогноз\n",
    "    forecast = best_model.forecast(steps=2)\n",
    "\n",
    "    current_metrics = evaluate_model(test.values, forecast.values)\n",
    "    total_metrics.loc[len(total_metrics)] = current_metrics\n",
    "\n",
    "\n",
    "    total_test.append(test.values)\n",
    "    total_pred.append(forecast.values)\n",
    "    # print(f\"\\nПрогноз на 2 года: {forecast.values}\")\n",
    "    # print(f\"Истинные значения: {test.values}\")\n"
   ]
  },
  {
   "cell_type": "code",
   "execution_count": 14,
   "id": "38f5fe93-7ba5-4a5c-a430-283c4ae0e16a",
   "metadata": {},
   "outputs": [],
   "source": [
    "total_test = np.vstack(total_test).flatten()\n",
    "total_pred = np.vstack(total_pred).flatten()"
   ]
  },
  {
   "cell_type": "code",
   "execution_count": 15,
   "id": "68be253a-6f4d-48cd-ba9b-0767d27e4180",
   "metadata": {},
   "outputs": [
    {
     "data": {
      "text/plain": [
       "{'MAE': 5924.277551587905,\n",
       " 'MSE': 84978861.0423676,\n",
       " 'RMSE': np.float64(9218.39796506788),\n",
       " 'MAPE (%)': np.float64(1.9782612735241254),\n",
       " 'R2 Score': 0.9826465658931529}"
      ]
     },
     "execution_count": 15,
     "metadata": {},
     "output_type": "execute_result"
    }
   ],
   "source": [
    "evaluate_model(total_test, total_pred)"
   ]
  },
  {
   "cell_type": "code",
   "execution_count": 8,
   "id": "b0c53ddc-5af3-489c-814c-03f7bf1d0c4e",
   "metadata": {},
   "outputs": [
    {
     "data": {
      "text/plain": [
       "MAE         5.924278e+03\n",
       "MSE         8.497886e+07\n",
       "RMSE        6.343021e+03\n",
       "MAPE (%)    1.978261e+00\n",
       "R2 Score   -2.910135e+02\n",
       "dtype: float64"
      ]
     },
     "execution_count": 8,
     "metadata": {},
     "output_type": "execute_result"
    }
   ],
   "source": [
    "total_metrics.mean()"
   ]
  },
  {
   "cell_type": "code",
   "execution_count": 8,
   "id": "955a74a8-ed4b-43ea-9ab6-322fec4e1ca8",
   "metadata": {},
   "outputs": [
    {
     "data": {
      "text/html": [
       "<div>\n",
       "<style scoped>\n",
       "    .dataframe tbody tr th:only-of-type {\n",
       "        vertical-align: middle;\n",
       "    }\n",
       "\n",
       "    .dataframe tbody tr th {\n",
       "        vertical-align: top;\n",
       "    }\n",
       "\n",
       "    .dataframe thead th {\n",
       "        text-align: right;\n",
       "    }\n",
       "</style>\n",
       "<table border=\"1\" class=\"dataframe\">\n",
       "  <thead>\n",
       "    <tr style=\"text-align: right;\">\n",
       "      <th></th>\n",
       "      <th>MAE</th>\n",
       "      <th>MSE</th>\n",
       "      <th>RMSE</th>\n",
       "      <th>MAPE (%)</th>\n",
       "      <th>R2 Score</th>\n",
       "    </tr>\n",
       "  </thead>\n",
       "  <tbody>\n",
       "    <tr>\n",
       "      <th>0</th>\n",
       "      <td>3664.755226</td>\n",
       "      <td>1.606884e+07</td>\n",
       "      <td>4008.595340</td>\n",
       "      <td>1.355072</td>\n",
       "      <td>-6.200503</td>\n",
       "    </tr>\n",
       "    <tr>\n",
       "      <th>1</th>\n",
       "      <td>4313.720605</td>\n",
       "      <td>2.083532e+07</td>\n",
       "      <td>4564.572649</td>\n",
       "      <td>1.315588</td>\n",
       "      <td>0.858442</td>\n",
       "    </tr>\n",
       "    <tr>\n",
       "      <th>2</th>\n",
       "      <td>13071.634361</td>\n",
       "      <td>1.792025e+08</td>\n",
       "      <td>13386.655204</td>\n",
       "      <td>4.024955</td>\n",
       "      <td>-7.639191</td>\n",
       "    </tr>\n",
       "    <tr>\n",
       "      <th>3</th>\n",
       "      <td>1403.764110</td>\n",
       "      <td>2.050496e+06</td>\n",
       "      <td>1431.955330</td>\n",
       "      <td>0.624254</td>\n",
       "      <td>-0.005361</td>\n",
       "    </tr>\n",
       "    <tr>\n",
       "      <th>4</th>\n",
       "      <td>30829.661369</td>\n",
       "      <td>1.006047e+09</td>\n",
       "      <td>31718.250879</td>\n",
       "      <td>5.989318</td>\n",
       "      <td>-12.525689</td>\n",
       "    </tr>\n",
       "    <tr>\n",
       "      <th>...</th>\n",
       "      <td>...</td>\n",
       "      <td>...</td>\n",
       "      <td>...</td>\n",
       "      <td>...</td>\n",
       "      <td>...</td>\n",
       "    </tr>\n",
       "    <tr>\n",
       "      <th>122</th>\n",
       "      <td>3172.402162</td>\n",
       "      <td>1.407118e+07</td>\n",
       "      <td>3751.156525</td>\n",
       "      <td>1.283279</td>\n",
       "      <td>-18.408246</td>\n",
       "    </tr>\n",
       "    <tr>\n",
       "      <th>123</th>\n",
       "      <td>12863.180276</td>\n",
       "      <td>1.657007e+08</td>\n",
       "      <td>12872.477543</td>\n",
       "      <td>4.229279</td>\n",
       "      <td>-22.984496</td>\n",
       "    </tr>\n",
       "    <tr>\n",
       "      <th>124</th>\n",
       "      <td>2121.161866</td>\n",
       "      <td>4.682630e+06</td>\n",
       "      <td>2163.938543</td>\n",
       "      <td>0.449620</td>\n",
       "      <td>0.086527</td>\n",
       "    </tr>\n",
       "    <tr>\n",
       "      <th>125</th>\n",
       "      <td>1386.699972</td>\n",
       "      <td>2.377448e+06</td>\n",
       "      <td>1541.897681</td>\n",
       "      <td>0.628869</td>\n",
       "      <td>-117.184388</td>\n",
       "    </tr>\n",
       "    <tr>\n",
       "      <th>126</th>\n",
       "      <td>5038.017141</td>\n",
       "      <td>2.684924e+07</td>\n",
       "      <td>5181.625662</td>\n",
       "      <td>2.136434</td>\n",
       "      <td>-20.921888</td>\n",
       "    </tr>\n",
       "  </tbody>\n",
       "</table>\n",
       "<p>127 rows × 5 columns</p>\n",
       "</div>"
      ],
      "text/plain": [
       "              MAE           MSE          RMSE  MAPE (%)    R2 Score\n",
       "0     3664.755226  1.606884e+07   4008.595340  1.355072   -6.200503\n",
       "1     4313.720605  2.083532e+07   4564.572649  1.315588    0.858442\n",
       "2    13071.634361  1.792025e+08  13386.655204  4.024955   -7.639191\n",
       "3     1403.764110  2.050496e+06   1431.955330  0.624254   -0.005361\n",
       "4    30829.661369  1.006047e+09  31718.250879  5.989318  -12.525689\n",
       "..            ...           ...           ...       ...         ...\n",
       "122   3172.402162  1.407118e+07   3751.156525  1.283279  -18.408246\n",
       "123  12863.180276  1.657007e+08  12872.477543  4.229279  -22.984496\n",
       "124   2121.161866  4.682630e+06   2163.938543  0.449620    0.086527\n",
       "125   1386.699972  2.377448e+06   1541.897681  0.628869 -117.184388\n",
       "126   5038.017141  2.684924e+07   5181.625662  2.136434  -20.921888\n",
       "\n",
       "[127 rows x 5 columns]"
      ]
     },
     "execution_count": 8,
     "metadata": {},
     "output_type": "execute_result"
    }
   ],
   "source": [
    "total_metrics"
   ]
  },
  {
   "cell_type": "code",
   "execution_count": 32,
   "id": "5fe5a628-cf7d-4853-9092-d9a4b6ac0c2c",
   "metadata": {},
   "outputs": [
    {
     "data": {
      "text/plain": [
       "array([226019.81351981, 223163.54816355])"
      ]
     },
     "execution_count": 32,
     "metadata": {},
     "output_type": "execute_result"
    }
   ],
   "source": [
    "total_test[6:8]"
   ]
  },
  {
   "cell_type": "code",
   "execution_count": 31,
   "id": "1cc74b1e-d88f-42d2-9cc0-c332254af1b0",
   "metadata": {},
   "outputs": [
    {
     "data": {
      "text/plain": [
       "array([224333.30855667, 224284.57141984])"
      ]
     },
     "execution_count": 31,
     "metadata": {},
     "output_type": "execute_result"
    }
   ],
   "source": [
    "total_pred[6:8]"
   ]
  },
  {
   "cell_type": "code",
   "execution_count": 29,
   "id": "4292b2f4-fef0-463b-9d08-7c9768dbce81",
   "metadata": {},
   "outputs": [
    {
     "data": {
      "text/plain": [
       "array([504171.2926249, 521420.1183432])"
      ]
     },
     "execution_count": 29,
     "metadata": {},
     "output_type": "execute_result"
    }
   ],
   "source": [
    "total_test[8:10]"
   ]
  },
  {
   "cell_type": "code",
   "execution_count": 30,
   "id": "f7f792d6-c938-4605-a11a-41f1d02e3078",
   "metadata": {},
   "outputs": [
    {
     "data": {
      "text/plain": [
       "array([480796.79179842, 483135.29643168])"
      ]
     },
     "execution_count": 30,
     "metadata": {},
     "output_type": "execute_result"
    }
   ],
   "source": [
    "total_pred[8:10]"
   ]
  },
  {
   "cell_type": "code",
   "execution_count": 33,
   "id": "b35a1355-0fa1-4f17-880a-1fe3c483f16a",
   "metadata": {},
   "outputs": [
    {
     "data": {
      "image/png": "[encoded data removed]",
      "text/plain": [
       "<Figure size 640x480 with 1 Axes>"
      ]
     },
     "metadata": {},
     "output_type": "display_data"
    }
   ],
   "source": [
    "    plt.plot(total_test[6:8], label='Истинное значение')\n",
    "    plt.plot(total_pred[6:8], label='Прогноз LSTM')\n",
    "    plt.title(f'Район {3} — Цена: Истина vs Прогноз')\n",
    "    plt.legend()\n",
    "    plt.grid(True)\n",
    "    plt.show()"
   ]
  },
  {
   "cell_type": "code",
   "execution_count": null,
   "id": "ab5b1d91-f415-4a54-94e5-bda81c1d2182",
   "metadata": {},
   "outputs": [],
   "source": []
  }
 ],
 "metadata": {
  "kernelspec": {
   "display_name": "Python 3 (ipykernel)",
   "language": "python",
   "name": "python3"
  },
  "language_info": {
   "codemirror_mode": {
    "name": "ipython",
    "version": 3
   },
   "file_extension": ".py",
   "mimetype": "text/x-python",
   "name": "python",
   "nbconvert_exporter": "python",
   "pygments_lexer": "ipython3",
   "version": "3.10.11"
  }
 },
 "nbformat": 4,
 "nbformat_minor": 5
}
